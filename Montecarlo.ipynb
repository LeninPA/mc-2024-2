{
 "cells": [
  {
   "cell_type": "code",
   "execution_count": 8,
   "metadata": {},
   "outputs": [],
   "source": [
    "# Modelos de Combate sesión 8\n",
    "# Todo lo que hacemos tiene un costo\n",
    "# Integración Monte Carlo en Python\n",
    "\n",
    "import numpy as np"
   ]
  },
  {
   "cell_type": "markdown",
   "metadata": {},
   "source": [
    "Intentaremos aproximar la integral $$\\int_0^\\pi\\sin(x)dx$$"
   ]
  },
  {
   "cell_type": "code",
   "execution_count": 2,
   "metadata": {},
   "outputs": [],
   "source": [
    "# Monte carlo para aprox. integral\n",
    "a = 0\n",
    "b = np.pi\n",
    "N = 1000"
   ]
  },
  {
   "cell_type": "code",
   "execution_count": 4,
   "metadata": {},
   "outputs": [
    {
     "name": "stdout",
     "output_type": "stream",
     "text": [
      "[0.5976010237819152, 1.9939210058886152, 1.832046823899721, 1.5830620276030833, 1.0776812860502343, 0.6164400768984777, 2.966500392344839, 0.09650632285916302, 1.6177553385499153, 0.09265520448817187]\n"
     ]
    }
   ],
   "source": [
    "# Vector de números pseudoaleatorios entre 0 y pi\n",
    "A = [np.random.uniform(a,b) for i in range(N)]\n",
    "print(A[0:10])"
   ]
  },
  {
   "cell_type": "code",
   "execution_count": 5,
   "metadata": {},
   "outputs": [
    {
     "name": "stdout",
     "output_type": "stream",
     "text": [
      "637.9504367176094\n"
     ]
    }
   ],
   "source": [
    "def f(x):\n",
    "    return np.sin(x)\n",
    "\n",
    "integral = 0.\n",
    "for i in A:\n",
    "    integral += f(i)\n",
    "print(integral)"
   ]
  },
  {
   "cell_type": "code",
   "execution_count": 6,
   "metadata": {},
   "outputs": [
    {
     "name": "stdout",
     "output_type": "stream",
     "text": [
      "2.004180405346442\n"
     ]
    }
   ],
   "source": [
    "I = ((b-a)/N) * integral\n",
    "print(I)"
   ]
  },
  {
   "cell_type": "code",
   "execution_count": 1,
   "metadata": {},
   "outputs": [],
   "source": [
    "import matplotlib.pyplot as plt\n",
    "import sympy as sp"
   ]
  },
  {
   "cell_type": "markdown",
   "metadata": {},
   "source": [
    "Intentaremos aproximar la integral $$\\int_A \\cos(x^4)+3y^2$$ con $x\\in(4,6)$ y $y\\in(0,1)$"
   ]
  },
  {
   "cell_type": "code",
   "execution_count": 3,
   "metadata": {},
   "outputs": [],
   "source": [
    "# Usando scipy\n",
    "\n",
    "x=sp.Symbol('x')\n",
    "y=sp.Symbol('y')\n",
    "IntegSymb = sp.integrate(sp.cos(x**4)+3*y**2,(x,4,6),(y,0,1))"
   ]
  },
  {
   "cell_type": "code",
   "execution_count": 4,
   "metadata": {},
   "outputs": [
    {
     "data": {
      "text/latex": [
       "$\\displaystyle \\frac{3 \\Gamma\\left(\\frac{1}{8}\\right) {{}_{1}F_{2}\\left(\\begin{matrix} \\frac{1}{8} \\\\ \\frac{1}{2}, \\frac{9}{8} \\end{matrix}\\middle| {-419904} \\right)} - 2 \\Gamma\\left(\\frac{1}{8}\\right) {{}_{1}F_{2}\\left(\\begin{matrix} \\frac{1}{8} \\\\ \\frac{1}{2}, \\frac{9}{8} \\end{matrix}\\middle| {-16384} \\right)}}{4 \\Gamma\\left(\\frac{9}{8}\\right)} + 2$"
      ],
      "text/plain": [
       "(3*gamma(1/8)*hyper((1/8,), (1/2, 9/8), -419904) - 2*gamma(1/8)*hyper((1/8,), (1/2, 9/8), -16384))/(4*gamma(9/8)) + 2"
      ]
     },
     "execution_count": 4,
     "metadata": {},
     "output_type": "execute_result"
    }
   ],
   "source": [
    "IntegSymb"
   ]
  },
  {
   "cell_type": "code",
   "execution_count": 5,
   "metadata": {},
   "outputs": [
    {
     "data": {
      "text/plain": [
       "2.005055086749674"
      ]
     },
     "execution_count": 5,
     "metadata": {},
     "output_type": "execute_result"
    }
   ],
   "source": [
    "float(IntegSymb)"
   ]
  },
  {
   "cell_type": "code",
   "execution_count": 9,
   "metadata": {},
   "outputs": [
    {
     "name": "stdout",
     "output_type": "stream",
     "text": [
      "1.9911412573508676\n"
     ]
    }
   ],
   "source": [
    "N=1000\n",
    "suma = 0.\n",
    "for i in range(N):\n",
    "    x = np.random.uniform(4,6)\n",
    "    y = np.random.uniform(0,1)\n",
    "    suma += np.cos(x**4)+3*y**2\n",
    "integral = (2/N)*suma\n",
    "print(integral)"
   ]
  },
  {
   "cell_type": "code",
   "execution_count": 10,
   "metadata": {},
   "outputs": [
    {
     "data": {
      "text/plain": [
       "0.013913829398806588"
      ]
     },
     "execution_count": 10,
     "metadata": {},
     "output_type": "execute_result"
    }
   ],
   "source": [
    "# Este número tiende a cero cuando N tiende a infinito\n",
    "abs(integral-float(IntegSymb))"
   ]
  },
  {
   "cell_type": "code",
   "execution_count": null,
   "metadata": {},
   "outputs": [],
   "source": []
  }
 ],
 "metadata": {
  "kernelspec": {
   "display_name": "Python 3",
   "language": "python",
   "name": "python3"
  },
  "language_info": {
   "codemirror_mode": {
    "name": "ipython",
    "version": 3
   },
   "file_extension": ".py",
   "mimetype": "text/x-python",
   "name": "python",
   "nbconvert_exporter": "python",
   "pygments_lexer": "ipython3",
   "version": "3.11.2"
  }
 },
 "nbformat": 4,
 "nbformat_minor": 2
}
